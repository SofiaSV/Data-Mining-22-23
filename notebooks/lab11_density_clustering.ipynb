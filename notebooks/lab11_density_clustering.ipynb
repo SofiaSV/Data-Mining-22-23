{
 "cells": [
  {
   "cell_type": "code",
   "execution_count": 1,
   "metadata": {},
   "outputs": [],
   "source": [
    "from os.path import join\n",
    "import matplotlib.pyplot as plt\n",
    "import numpy as np\n",
    "import pandas as pd\n",
    "\n",
    "from sklearn.neighbors import NearestNeighbors\n",
    "from sklearn.mixture import GaussianMixture\n",
    "from sklearn.cluster import MeanShift, DBSCAN, estimate_bandwidth"
   ]
  },
  {
   "cell_type": "markdown",
   "metadata": {},
   "source": [
    "## Import preprocessed data"
   ]
  },
  {
   "cell_type": "code",
   "execution_count": 2,
   "metadata": {},
   "outputs": [],
   "source": [
    "df = pd.read_csv(join('..', 'data', 'tugas_preprocessed.csv'))"
   ]
  },
  {
   "cell_type": "code",
   "execution_count": 3,
   "metadata": {},
   "outputs": [
    {
     "data": {
      "text/html": [
       "<div>\n",
       "<style scoped>\n",
       "    .dataframe tbody tr th:only-of-type {\n",
       "        vertical-align: middle;\n",
       "    }\n",
       "\n",
       "    .dataframe tbody tr th {\n",
       "        vertical-align: top;\n",
       "    }\n",
       "\n",
       "    .dataframe thead th {\n",
       "        text-align: right;\n",
       "    }\n",
       "</style>\n",
       "<table border=\"1\" class=\"dataframe\">\n",
       "  <thead>\n",
       "    <tr style=\"text-align: right;\">\n",
       "      <th></th>\n",
       "      <th>income</th>\n",
       "      <th>frq</th>\n",
       "      <th>rcn</th>\n",
       "      <th>clothes</th>\n",
       "      <th>kitchen</th>\n",
       "      <th>small_appliances</th>\n",
       "      <th>toys</th>\n",
       "      <th>house_keeping</th>\n",
       "      <th>per_net_purchase</th>\n",
       "      <th>spent_online</th>\n",
       "      <th>...</th>\n",
       "      <th>x_status_Widow</th>\n",
       "      <th>x_gender_M</th>\n",
       "      <th>x_dependents_1.0</th>\n",
       "      <th>x_description_Kind of OK</th>\n",
       "      <th>x_description_Meh...</th>\n",
       "      <th>x_description_OK nice!</th>\n",
       "      <th>x_description_Take my money!!</th>\n",
       "      <th>PC0</th>\n",
       "      <th>PC1</th>\n",
       "      <th>PC2</th>\n",
       "    </tr>\n",
       "  </thead>\n",
       "  <tbody>\n",
       "    <tr>\n",
       "      <th>0</th>\n",
       "      <td>0.743162</td>\n",
       "      <td>1.191605</td>\n",
       "      <td>0.457819</td>\n",
       "      <td>-0.617023</td>\n",
       "      <td>-0.243065</td>\n",
       "      <td>1.216847</td>\n",
       "      <td>0.495837</td>\n",
       "      <td>-0.499274</td>\n",
       "      <td>-1.257560</td>\n",
       "      <td>0.522055</td>\n",
       "      <td>...</td>\n",
       "      <td>0.0</td>\n",
       "      <td>1.0</td>\n",
       "      <td>0.0</td>\n",
       "      <td>0.0</td>\n",
       "      <td>0.0</td>\n",
       "      <td>0.0</td>\n",
       "      <td>1.0</td>\n",
       "      <td>0.896356</td>\n",
       "      <td>1.937697</td>\n",
       "      <td>-1.120781</td>\n",
       "    </tr>\n",
       "    <tr>\n",
       "      <th>1</th>\n",
       "      <td>1.559488</td>\n",
       "      <td>1.100011</td>\n",
       "      <td>-1.535723</td>\n",
       "      <td>0.166160</td>\n",
       "      <td>-0.790228</td>\n",
       "      <td>0.740464</td>\n",
       "      <td>-0.374374</td>\n",
       "      <td>-0.631907</td>\n",
       "      <td>-1.798649</td>\n",
       "      <td>-0.237578</td>\n",
       "      <td>...</td>\n",
       "      <td>0.0</td>\n",
       "      <td>0.0</td>\n",
       "      <td>0.0</td>\n",
       "      <td>0.0</td>\n",
       "      <td>0.0</td>\n",
       "      <td>0.0</td>\n",
       "      <td>1.0</td>\n",
       "      <td>1.981092</td>\n",
       "      <td>1.421498</td>\n",
       "      <td>-0.785625</td>\n",
       "    </tr>\n",
       "    <tr>\n",
       "      <th>2</th>\n",
       "      <td>-1.548542</td>\n",
       "      <td>-0.823463</td>\n",
       "      <td>0.557496</td>\n",
       "      <td>-0.834573</td>\n",
       "      <td>1.672006</td>\n",
       "      <td>-0.371096</td>\n",
       "      <td>-0.809480</td>\n",
       "      <td>2.286023</td>\n",
       "      <td>0.906799</td>\n",
       "      <td>-0.904191</td>\n",
       "      <td>...</td>\n",
       "      <td>0.0</td>\n",
       "      <td>1.0</td>\n",
       "      <td>1.0</td>\n",
       "      <td>1.0</td>\n",
       "      <td>0.0</td>\n",
       "      <td>0.0</td>\n",
       "      <td>0.0</td>\n",
       "      <td>-2.813108</td>\n",
       "      <td>-0.381440</td>\n",
       "      <td>0.780867</td>\n",
       "    </tr>\n",
       "    <tr>\n",
       "      <th>3</th>\n",
       "      <td>0.845528</td>\n",
       "      <td>0.550447</td>\n",
       "      <td>-1.402820</td>\n",
       "      <td>0.383710</td>\n",
       "      <td>0.440889</td>\n",
       "      <td>-0.768082</td>\n",
       "      <td>-0.084304</td>\n",
       "      <td>-0.234007</td>\n",
       "      <td>-0.391816</td>\n",
       "      <td>0.785568</td>\n",
       "      <td>...</td>\n",
       "      <td>0.0</td>\n",
       "      <td>0.0</td>\n",
       "      <td>1.0</td>\n",
       "      <td>0.0</td>\n",
       "      <td>0.0</td>\n",
       "      <td>1.0</td>\n",
       "      <td>0.0</td>\n",
       "      <td>1.247013</td>\n",
       "      <td>0.514177</td>\n",
       "      <td>1.302203</td>\n",
       "    </tr>\n",
       "    <tr>\n",
       "      <th>4</th>\n",
       "      <td>0.782435</td>\n",
       "      <td>1.008417</td>\n",
       "      <td>-0.871209</td>\n",
       "      <td>0.340200</td>\n",
       "      <td>-0.243065</td>\n",
       "      <td>-0.053508</td>\n",
       "      <td>-0.374374</td>\n",
       "      <td>-0.366640</td>\n",
       "      <td>-0.445925</td>\n",
       "      <td>1.237135</td>\n",
       "      <td>...</td>\n",
       "      <td>0.0</td>\n",
       "      <td>0.0</td>\n",
       "      <td>1.0</td>\n",
       "      <td>0.0</td>\n",
       "      <td>0.0</td>\n",
       "      <td>0.0</td>\n",
       "      <td>1.0</td>\n",
       "      <td>1.781920</td>\n",
       "      <td>0.704805</td>\n",
       "      <td>0.443376</td>\n",
       "    </tr>\n",
       "  </tbody>\n",
       "</table>\n",
       "<p>5 rows × 27 columns</p>\n",
       "</div>"
      ],
      "text/plain": [
       "     income       frq       rcn   clothes   kitchen  small_appliances  \\\n",
       "0  0.743162  1.191605  0.457819 -0.617023 -0.243065          1.216847   \n",
       "1  1.559488  1.100011 -1.535723  0.166160 -0.790228          0.740464   \n",
       "2 -1.548542 -0.823463  0.557496 -0.834573  1.672006         -0.371096   \n",
       "3  0.845528  0.550447 -1.402820  0.383710  0.440889         -0.768082   \n",
       "4  0.782435  1.008417 -0.871209  0.340200 -0.243065         -0.053508   \n",
       "\n",
       "       toys  house_keeping  per_net_purchase  spent_online  ...  \\\n",
       "0  0.495837      -0.499274         -1.257560      0.522055  ...   \n",
       "1 -0.374374      -0.631907         -1.798649     -0.237578  ...   \n",
       "2 -0.809480       2.286023          0.906799     -0.904191  ...   \n",
       "3 -0.084304      -0.234007         -0.391816      0.785568  ...   \n",
       "4 -0.374374      -0.366640         -0.445925      1.237135  ...   \n",
       "\n",
       "   x_status_Widow  x_gender_M  x_dependents_1.0  x_description_Kind of OK  \\\n",
       "0             0.0         1.0               0.0                       0.0   \n",
       "1             0.0         0.0               0.0                       0.0   \n",
       "2             0.0         1.0               1.0                       1.0   \n",
       "3             0.0         0.0               1.0                       0.0   \n",
       "4             0.0         0.0               1.0                       0.0   \n",
       "\n",
       "   x_description_Meh...  x_description_OK nice!  \\\n",
       "0                   0.0                     0.0   \n",
       "1                   0.0                     0.0   \n",
       "2                   0.0                     0.0   \n",
       "3                   0.0                     1.0   \n",
       "4                   0.0                     0.0   \n",
       "\n",
       "   x_description_Take my money!!       PC0       PC1       PC2  \n",
       "0                            1.0  0.896356  1.937697 -1.120781  \n",
       "1                            1.0  1.981092  1.421498 -0.785625  \n",
       "2                            0.0 -2.813108 -0.381440  0.780867  \n",
       "3                            0.0  1.247013  0.514177  1.302203  \n",
       "4                            1.0  1.781920  0.704805  0.443376  \n",
       "\n",
       "[5 rows x 27 columns]"
      ]
     },
     "execution_count": 3,
     "metadata": {},
     "output_type": "execute_result"
    }
   ],
   "source": [
    "df.head()"
   ]
  },
  {
   "cell_type": "code",
   "execution_count": 4,
   "metadata": {},
   "outputs": [
    {
     "data": {
      "text/plain": [
       "Index(['income', 'frq', 'rcn', 'clothes', 'kitchen', 'small_appliances',\n",
       "       'toys', 'house_keeping', 'per_net_purchase', 'spent_online',\n",
       "       'x_education_2nd Cycle', 'x_education_Graduation', 'x_education_Master',\n",
       "       'x_education_PhD', 'x_status_Married', 'x_status_Single',\n",
       "       'x_status_Together', 'x_status_Widow', 'x_gender_M', 'x_dependents_1.0',\n",
       "       'x_description_Kind of OK', 'x_description_Meh...',\n",
       "       'x_description_OK nice!', 'x_description_Take my money!!', 'PC0', 'PC1',\n",
       "       'PC2'],\n",
       "      dtype='object')"
      ]
     },
     "execution_count": 4,
     "metadata": {},
     "output_type": "execute_result"
    }
   ],
   "source": [
    "df.columns"
   ]
  },
  {
   "cell_type": "code",
   "execution_count": 5,
   "metadata": {},
   "outputs": [],
   "source": [
    "# Splitting feature names into groups\n",
    "non_metric_features = df.columns[df.columns.str.startswith('x')]\n",
    "pc_features = df.columns[df.columns.str.startswith('PC')]\n",
    "metric_features = df.columns[~df.columns.str.startswith('x') & ~df.columns.str.startswith('PC')]"
   ]
  },
  {
   "cell_type": "code",
   "execution_count": 6,
   "metadata": {},
   "outputs": [],
   "source": [
    "def get_ss(df):\n",
    "    \"\"\"Computes the sum of squares for all variables given a dataset\n",
    "    \"\"\"\n",
    "    ss = np.sum(df.var() * (df.count() - 1))\n",
    "    return ss  # return sum of sum of squares of each df variable"
   ]
  },
  {
   "cell_type": "markdown",
   "metadata": {},
   "source": [
    "# Density Based Clustering\n",
    "## Mean Shift Clustering\n",
    "What is Mean-shift clustering? How does it work?\n",
    "\n",
    "Single seed             |  Multiple seeds\n",
    ":-------------------------:|:-------------------------:\n",
    "![](../figures/mean_shift_0.gif)  |  ![](../figures/mean_shift_tutorial.gif)\n",
    " \n",
    "### Characteristics:\n",
    "- No need to define number of clusters apriori\n",
    "- Can detect clusters of any shape\n",
    "- Robust to outliers\n",
    "- Depends on the bandwidth hyperparameter (but there's a way to estimate it)\n",
    "- **Main drawback**: Poor scalability (on both the algorithm and in estimating the bandwidth)"
   ]
  },
  {
   "cell_type": "code",
   "execution_count": 8,
   "metadata": {},
   "outputs": [
    {
     "data": {
      "text/plain": [
       "2.2293096708819555"
      ]
     },
     "execution_count": 8,
     "metadata": {},
     "output_type": "execute_result"
    }
   ],
   "source": [
    "# The following bandwidth can be automatically detected using (we need to set quantile though)\n",
    "# Based on distance to nearest neighbors for all observations\n",
    "bandwidth = estimate_bandwidth(df[metric_features], random_state=1, n_jobs=-1, quantile=.05)\n",
    "# TO-DO: manipulate the quantile value such that we obtain a small enough bandwidth\n",
    "bandwidth"
   ]
  },
  {
   "cell_type": "code",
   "execution_count": 12,
   "metadata": {},
   "outputs": [
    {
     "name": "stdout",
     "output_type": "stream",
     "text": [
      "Number of estimated clusters : 7\n"
     ]
    }
   ],
   "source": [
    "# Perform mean-shift clustering with bandwidth set using estimate_bandwidth\n",
    "# TO-DO: explore the MeanShift class and obtain the cluster labels\n",
    "ms = MeanShift(bandwidth = bandwidth, bin_seeding = True, n_jobs=-1)\n",
    "ms_labels = ms.fit_predict(df[metric_features])\n",
    "\n",
    "ms_n_clusters = len(np.unique(ms_labels))\n",
    "print(\"Number of estimated clusters : %d\" % ms_n_clusters)"
   ]
  },
  {
   "cell_type": "code",
   "execution_count": 13,
   "metadata": {},
   "outputs": [
    {
     "data": {
      "text/plain": [
       "Counter({0: 7014, 5: 428, 6: 356, 3: 264, 1: 630, 2: 100, 4: 25})"
      ]
     },
     "execution_count": 13,
     "metadata": {},
     "output_type": "execute_result"
    }
   ],
   "source": [
    "from collections import Counter\n",
    "Counter(ms_labels)"
   ]
  },
  {
   "cell_type": "code",
   "execution_count": 14,
   "metadata": {},
   "outputs": [
    {
     "data": {
      "text/html": [
       "<div>\n",
       "<style scoped>\n",
       "    .dataframe tbody tr th:only-of-type {\n",
       "        vertical-align: middle;\n",
       "    }\n",
       "\n",
       "    .dataframe tbody tr th {\n",
       "        vertical-align: top;\n",
       "    }\n",
       "\n",
       "    .dataframe thead th {\n",
       "        text-align: right;\n",
       "    }\n",
       "</style>\n",
       "<table border=\"1\" class=\"dataframe\">\n",
       "  <thead>\n",
       "    <tr style=\"text-align: right;\">\n",
       "      <th></th>\n",
       "      <th>income</th>\n",
       "      <th>frq</th>\n",
       "      <th>rcn</th>\n",
       "      <th>clothes</th>\n",
       "      <th>kitchen</th>\n",
       "      <th>small_appliances</th>\n",
       "      <th>toys</th>\n",
       "      <th>house_keeping</th>\n",
       "      <th>per_net_purchase</th>\n",
       "      <th>spent_online</th>\n",
       "      <th>ms_labels</th>\n",
       "    </tr>\n",
       "  </thead>\n",
       "  <tbody>\n",
       "    <tr>\n",
       "      <th>0</th>\n",
       "      <td>0.743162</td>\n",
       "      <td>1.191605</td>\n",
       "      <td>0.457819</td>\n",
       "      <td>-0.617023</td>\n",
       "      <td>-0.243065</td>\n",
       "      <td>1.216847</td>\n",
       "      <td>0.495837</td>\n",
       "      <td>-0.499274</td>\n",
       "      <td>-1.257560</td>\n",
       "      <td>0.522055</td>\n",
       "      <td>0</td>\n",
       "    </tr>\n",
       "    <tr>\n",
       "      <th>1</th>\n",
       "      <td>1.559488</td>\n",
       "      <td>1.100011</td>\n",
       "      <td>-1.535723</td>\n",
       "      <td>0.166160</td>\n",
       "      <td>-0.790228</td>\n",
       "      <td>0.740464</td>\n",
       "      <td>-0.374374</td>\n",
       "      <td>-0.631907</td>\n",
       "      <td>-1.798649</td>\n",
       "      <td>-0.237578</td>\n",
       "      <td>0</td>\n",
       "    </tr>\n",
       "    <tr>\n",
       "      <th>2</th>\n",
       "      <td>-1.548542</td>\n",
       "      <td>-0.823463</td>\n",
       "      <td>0.557496</td>\n",
       "      <td>-0.834573</td>\n",
       "      <td>1.672006</td>\n",
       "      <td>-0.371096</td>\n",
       "      <td>-0.809480</td>\n",
       "      <td>2.286023</td>\n",
       "      <td>0.906799</td>\n",
       "      <td>-0.904191</td>\n",
       "      <td>5</td>\n",
       "    </tr>\n",
       "    <tr>\n",
       "      <th>3</th>\n",
       "      <td>0.845528</td>\n",
       "      <td>0.550447</td>\n",
       "      <td>-1.402820</td>\n",
       "      <td>0.383710</td>\n",
       "      <td>0.440889</td>\n",
       "      <td>-0.768082</td>\n",
       "      <td>-0.084304</td>\n",
       "      <td>-0.234007</td>\n",
       "      <td>-0.391816</td>\n",
       "      <td>0.785568</td>\n",
       "      <td>0</td>\n",
       "    </tr>\n",
       "    <tr>\n",
       "      <th>4</th>\n",
       "      <td>0.782435</td>\n",
       "      <td>1.008417</td>\n",
       "      <td>-0.871209</td>\n",
       "      <td>0.340200</td>\n",
       "      <td>-0.243065</td>\n",
       "      <td>-0.053508</td>\n",
       "      <td>-0.374374</td>\n",
       "      <td>-0.366640</td>\n",
       "      <td>-0.445925</td>\n",
       "      <td>1.237135</td>\n",
       "      <td>0</td>\n",
       "    </tr>\n",
       "  </tbody>\n",
       "</table>\n",
       "</div>"
      ],
      "text/plain": [
       "     income       frq       rcn   clothes   kitchen  small_appliances  \\\n",
       "0  0.743162  1.191605  0.457819 -0.617023 -0.243065          1.216847   \n",
       "1  1.559488  1.100011 -1.535723  0.166160 -0.790228          0.740464   \n",
       "2 -1.548542 -0.823463  0.557496 -0.834573  1.672006         -0.371096   \n",
       "3  0.845528  0.550447 -1.402820  0.383710  0.440889         -0.768082   \n",
       "4  0.782435  1.008417 -0.871209  0.340200 -0.243065         -0.053508   \n",
       "\n",
       "       toys  house_keeping  per_net_purchase  spent_online  ms_labels  \n",
       "0  0.495837      -0.499274         -1.257560      0.522055          0  \n",
       "1 -0.374374      -0.631907         -1.798649     -0.237578          0  \n",
       "2 -0.809480       2.286023          0.906799     -0.904191          5  \n",
       "3 -0.084304      -0.234007         -0.391816      0.785568          0  \n",
       "4 -0.374374      -0.366640         -0.445925      1.237135          0  "
      ]
     },
     "execution_count": 14,
     "metadata": {},
     "output_type": "execute_result"
    }
   ],
   "source": [
    "# Concatenating the labels to df\n",
    "df_concat = pd.concat([df[metric_features], pd.Series(ms_labels, index=df.index, name=\"ms_labels\")], axis=1)\n",
    "df_concat.head()"
   ]
  },
  {
   "cell_type": "code",
   "execution_count": 15,
   "metadata": {},
   "outputs": [
    {
     "name": "stdout",
     "output_type": "stream",
     "text": [
      "Cluster solution with R^2 of 0.2686\n"
     ]
    }
   ],
   "source": [
    "# Computing the R^2 of the cluster solution\n",
    "sst = get_ss(df[metric_features])  # get total sum of squares\n",
    "ssw_labels = df_concat.groupby(by='ms_labels').apply(get_ss)  # compute ssw for each cluster labels\n",
    "ssb = sst - np.sum(ssw_labels)  # remember: SST = SSW + SSB\n",
    "r2 = ssb / sst\n",
    "print(\"Cluster solution with R^2 of %0.4f\" % r2)"
   ]
  },
  {
   "cell_type": "markdown",
   "metadata": {},
   "source": [
    "## DBSCAN (Density-based spatial clustering of applications with noise)\n",
    "What is DBSCAN clustering? How does it work?\n",
    "\n",
    "DBSCAN animation            |  Core, border and noise\n",
    ":-------------------------:|:-------------------------:\n",
    "![](../figures/dbscan.gif)  |  ![](../figures/dbscan.jpg)\n",
    "\n",
    "\n",
    "### Characteristics:\n",
    "- No need to define number of clusters apriori\n",
    "- Resistant to noise and outliers\n",
    "- Can identify outliers\n",
    "- Can handle clusters of different shapes and sizes\n",
    "- Depends highly on the epsilon hyperparameter and it can be hard to tune\n",
    "- Does not work well with clusters of varying densities"
   ]
  },
  {
   "cell_type": "code",
   "execution_count": 19,
   "metadata": {},
   "outputs": [
    {
     "name": "stdout",
     "output_type": "stream",
     "text": [
      "Number of estimated clusters : 22\n"
     ]
    }
   ],
   "source": [
    "# Perform DBSCAN clustering\n",
    "# TO-DO: explore the DBSCAN class and obtain the cluster labels\n",
    "dbscan = DBSCAN(eps=1, min_samples = 5, n_jobs = -1)\n",
    "dbscan_labels = dbscan.fit_predict(df[metric_features])\n",
    "\n",
    "dbscan_n_clusters = len(np.unique(dbscan_labels))\n",
    "print(\"Number of estimated clusters : %d\" % dbscan_n_clusters)"
   ]
  },
  {
   "cell_type": "code",
   "execution_count": 20,
   "metadata": {},
   "outputs": [
    {
     "data": {
      "text/plain": [
       "Counter({0: 5985,\n",
       "         -1: 2661,\n",
       "         3: 41,\n",
       "         1: 20,\n",
       "         2: 5,\n",
       "         7: 9,\n",
       "         19: 5,\n",
       "         15: 5,\n",
       "         12: 18,\n",
       "         20: 6,\n",
       "         8: 7,\n",
       "         4: 7,\n",
       "         5: 5,\n",
       "         6: 5,\n",
       "         17: 4,\n",
       "         11: 5,\n",
       "         9: 4,\n",
       "         13: 9,\n",
       "         10: 3,\n",
       "         18: 5,\n",
       "         14: 3,\n",
       "         16: 5})"
      ]
     },
     "execution_count": 20,
     "metadata": {},
     "output_type": "execute_result"
    }
   ],
   "source": [
    "Counter(dbscan_labels)"
   ]
  },
  {
   "cell_type": "markdown",
   "metadata": {},
   "source": [
    "### Defining eps and min_samples:\n",
    "- **MinPts**: As a rule of thumb, **minPts = 2 x dim** can be used, but it may be necessary to choose larger values for very large data, for noisy data or for data that contains many duplicates.\n",
    "\n",
    "- **ε**: The value for ε can then be chosen by using a **k-distance graph**, plotting the distance to the kth (k = minPts - 1) nearest neighbor ordered from the largest to the smallest value. Good values of ε are where this plot shows an **\"elbow\"**: if ε is chosen much too small, a large part of the data will not be clustered; whereas for a too high value of ε, clusters will merge and the majority of objects will be in the same cluster. **The assumption is that for points in a cluster, their k nearest neighbors are at roughly the same distance**. Noise points have their k-th nearest neighbors at farther distance"
   ]
  },
  {
   "cell_type": "code",
   "execution_count": 21,
   "metadata": {},
   "outputs": [
    {
     "data": {
      "image/png": "[encoded data removed]",
      "text/plain": [
       "<Figure size 640x480 with 1 Axes>"
      ]
     },
     "metadata": {},
     "output_type": "display_data"
    }
   ],
   "source": [
    "# K-distance graph to find out the right eps value\n",
    "neigh = NearestNeighbors(n_neighbors=20)\n",
    "neigh.fit(df[metric_features])\n",
    "distances, _ = neigh.kneighbors(df[metric_features])\n",
    "distances = np.sort(distances[:, -1])\n",
    "plt.plot(distances)\n",
    "plt.show()"
   ]
  },
  {
   "cell_type": "code",
   "execution_count": 26,
   "metadata": {},
   "outputs": [
    {
     "name": "stdout",
     "output_type": "stream",
     "text": [
      "Number of estimated clusters : 3\n"
     ]
    }
   ],
   "source": [
    "# Perform DBSCAN clustering\n",
    "# TO-DO: Re-cluster the data using the defined hyperparameters\n",
    "dbscan = DBSCAN(eps=1.1,min_samples=2*len(metric_features), n_jobs=-1)\n",
    "dbscan_labels = dbscan.fit_predict(df[metric_features])\n",
    "\n",
    "dbscan_n_clusters = len(np.unique(dbscan_labels))\n",
    "print(\"Number of estimated clusters : %d\" % dbscan_n_clusters)"
   ]
  },
  {
   "cell_type": "code",
   "execution_count": 27,
   "metadata": {},
   "outputs": [
    {
     "data": {
      "text/plain": [
       "Counter({0: 5463, -1: 3343, 1: 11})"
      ]
     },
     "execution_count": 27,
     "metadata": {},
     "output_type": "execute_result"
    }
   ],
   "source": [
    "Counter(dbscan_labels)"
   ]
  },
  {
   "cell_type": "code",
   "execution_count": 28,
   "metadata": {},
   "outputs": [
    {
     "data": {
      "text/html": [
       "<div>\n",
       "<style scoped>\n",
       "    .dataframe tbody tr th:only-of-type {\n",
       "        vertical-align: middle;\n",
       "    }\n",
       "\n",
       "    .dataframe tbody tr th {\n",
       "        vertical-align: top;\n",
       "    }\n",
       "\n",
       "    .dataframe thead th {\n",
       "        text-align: right;\n",
       "    }\n",
       "</style>\n",
       "<table border=\"1\" class=\"dataframe\">\n",
       "  <thead>\n",
       "    <tr style=\"text-align: right;\">\n",
       "      <th></th>\n",
       "      <th>income</th>\n",
       "      <th>frq</th>\n",
       "      <th>rcn</th>\n",
       "      <th>clothes</th>\n",
       "      <th>kitchen</th>\n",
       "      <th>small_appliances</th>\n",
       "      <th>toys</th>\n",
       "      <th>house_keeping</th>\n",
       "      <th>per_net_purchase</th>\n",
       "      <th>spent_online</th>\n",
       "      <th>dbscan_labels</th>\n",
       "    </tr>\n",
       "  </thead>\n",
       "  <tbody>\n",
       "    <tr>\n",
       "      <th>0</th>\n",
       "      <td>0.743162</td>\n",
       "      <td>1.191605</td>\n",
       "      <td>0.457819</td>\n",
       "      <td>-0.617023</td>\n",
       "      <td>-0.243065</td>\n",
       "      <td>1.216847</td>\n",
       "      <td>0.495837</td>\n",
       "      <td>-0.499274</td>\n",
       "      <td>-1.257560</td>\n",
       "      <td>0.522055</td>\n",
       "      <td>0</td>\n",
       "    </tr>\n",
       "    <tr>\n",
       "      <th>1</th>\n",
       "      <td>1.559488</td>\n",
       "      <td>1.100011</td>\n",
       "      <td>-1.535723</td>\n",
       "      <td>0.166160</td>\n",
       "      <td>-0.790228</td>\n",
       "      <td>0.740464</td>\n",
       "      <td>-0.374374</td>\n",
       "      <td>-0.631907</td>\n",
       "      <td>-1.798649</td>\n",
       "      <td>-0.237578</td>\n",
       "      <td>0</td>\n",
       "    </tr>\n",
       "    <tr>\n",
       "      <th>2</th>\n",
       "      <td>-1.548542</td>\n",
       "      <td>-0.823463</td>\n",
       "      <td>0.557496</td>\n",
       "      <td>-0.834573</td>\n",
       "      <td>1.672006</td>\n",
       "      <td>-0.371096</td>\n",
       "      <td>-0.809480</td>\n",
       "      <td>2.286023</td>\n",
       "      <td>0.906799</td>\n",
       "      <td>-0.904191</td>\n",
       "      <td>-1</td>\n",
       "    </tr>\n",
       "    <tr>\n",
       "      <th>3</th>\n",
       "      <td>0.845528</td>\n",
       "      <td>0.550447</td>\n",
       "      <td>-1.402820</td>\n",
       "      <td>0.383710</td>\n",
       "      <td>0.440889</td>\n",
       "      <td>-0.768082</td>\n",
       "      <td>-0.084304</td>\n",
       "      <td>-0.234007</td>\n",
       "      <td>-0.391816</td>\n",
       "      <td>0.785568</td>\n",
       "      <td>0</td>\n",
       "    </tr>\n",
       "    <tr>\n",
       "      <th>4</th>\n",
       "      <td>0.782435</td>\n",
       "      <td>1.008417</td>\n",
       "      <td>-0.871209</td>\n",
       "      <td>0.340200</td>\n",
       "      <td>-0.243065</td>\n",
       "      <td>-0.053508</td>\n",
       "      <td>-0.374374</td>\n",
       "      <td>-0.366640</td>\n",
       "      <td>-0.445925</td>\n",
       "      <td>1.237135</td>\n",
       "      <td>0</td>\n",
       "    </tr>\n",
       "  </tbody>\n",
       "</table>\n",
       "</div>"
      ],
      "text/plain": [
       "     income       frq       rcn   clothes   kitchen  small_appliances  \\\n",
       "0  0.743162  1.191605  0.457819 -0.617023 -0.243065          1.216847   \n",
       "1  1.559488  1.100011 -1.535723  0.166160 -0.790228          0.740464   \n",
       "2 -1.548542 -0.823463  0.557496 -0.834573  1.672006         -0.371096   \n",
       "3  0.845528  0.550447 -1.402820  0.383710  0.440889         -0.768082   \n",
       "4  0.782435  1.008417 -0.871209  0.340200 -0.243065         -0.053508   \n",
       "\n",
       "       toys  house_keeping  per_net_purchase  spent_online  dbscan_labels  \n",
       "0  0.495837      -0.499274         -1.257560      0.522055              0  \n",
       "1 -0.374374      -0.631907         -1.798649     -0.237578              0  \n",
       "2 -0.809480       2.286023          0.906799     -0.904191             -1  \n",
       "3 -0.084304      -0.234007         -0.391816      0.785568              0  \n",
       "4 -0.374374      -0.366640         -0.445925      1.237135              0  "
      ]
     },
     "execution_count": 28,
     "metadata": {},
     "output_type": "execute_result"
    }
   ],
   "source": [
    "# Concatenating the labels to df\n",
    "df_concat = pd.concat([df[metric_features], pd.Series(dbscan_labels, index=df.index, name=\"dbscan_labels\")], axis=1)\n",
    "df_concat.head()"
   ]
  },
  {
   "cell_type": "code",
   "execution_count": 30,
   "metadata": {},
   "outputs": [
    {
     "data": {
      "text/html": [
       "<div>\n",
       "<style scoped>\n",
       "    .dataframe tbody tr th:only-of-type {\n",
       "        vertical-align: middle;\n",
       "    }\n",
       "\n",
       "    .dataframe tbody tr th {\n",
       "        vertical-align: top;\n",
       "    }\n",
       "\n",
       "    .dataframe thead th {\n",
       "        text-align: right;\n",
       "    }\n",
       "</style>\n",
       "<table border=\"1\" class=\"dataframe\">\n",
       "  <thead>\n",
       "    <tr style=\"text-align: right;\">\n",
       "      <th></th>\n",
       "      <th>income</th>\n",
       "      <th>frq</th>\n",
       "      <th>rcn</th>\n",
       "      <th>clothes</th>\n",
       "      <th>kitchen</th>\n",
       "      <th>small_appliances</th>\n",
       "      <th>toys</th>\n",
       "      <th>house_keeping</th>\n",
       "      <th>per_net_purchase</th>\n",
       "      <th>spent_online</th>\n",
       "      <th>dbscan_labels</th>\n",
       "    </tr>\n",
       "  </thead>\n",
       "  <tbody>\n",
       "    <tr>\n",
       "      <th>2</th>\n",
       "      <td>-1.548542</td>\n",
       "      <td>-0.823463</td>\n",
       "      <td>0.557496</td>\n",
       "      <td>-0.834573</td>\n",
       "      <td>1.672006</td>\n",
       "      <td>-0.371096</td>\n",
       "      <td>-0.809480</td>\n",
       "      <td>2.286023</td>\n",
       "      <td>0.906799</td>\n",
       "      <td>-0.904191</td>\n",
       "      <td>-1</td>\n",
       "    </tr>\n",
       "    <tr>\n",
       "      <th>9</th>\n",
       "      <td>0.989443</td>\n",
       "      <td>0.000883</td>\n",
       "      <td>1.354913</td>\n",
       "      <td>-0.617023</td>\n",
       "      <td>1.261634</td>\n",
       "      <td>0.343478</td>\n",
       "      <td>0.350802</td>\n",
       "      <td>-0.234007</td>\n",
       "      <td>-1.473995</td>\n",
       "      <td>-0.369453</td>\n",
       "      <td>-1</td>\n",
       "    </tr>\n",
       "    <tr>\n",
       "      <th>11</th>\n",
       "      <td>0.919486</td>\n",
       "      <td>1.100011</td>\n",
       "      <td>0.059111</td>\n",
       "      <td>-1.052124</td>\n",
       "      <td>-0.516646</td>\n",
       "      <td>0.819861</td>\n",
       "      <td>1.946190</td>\n",
       "      <td>0.561792</td>\n",
       "      <td>-1.041124</td>\n",
       "      <td>0.861561</td>\n",
       "      <td>-1</td>\n",
       "    </tr>\n",
       "    <tr>\n",
       "      <th>13</th>\n",
       "      <td>-0.743080</td>\n",
       "      <td>-0.915057</td>\n",
       "      <td>1.587493</td>\n",
       "      <td>-0.225432</td>\n",
       "      <td>-0.927018</td>\n",
       "      <td>0.343478</td>\n",
       "      <td>1.366049</td>\n",
       "      <td>-0.234007</td>\n",
       "      <td>1.501998</td>\n",
       "      <td>-0.975142</td>\n",
       "      <td>-1</td>\n",
       "    </tr>\n",
       "    <tr>\n",
       "      <th>14</th>\n",
       "      <td>-1.853219</td>\n",
       "      <td>-1.373027</td>\n",
       "      <td>-0.505726</td>\n",
       "      <td>-1.965837</td>\n",
       "      <td>2.903123</td>\n",
       "      <td>0.502272</td>\n",
       "      <td>3.106472</td>\n",
       "      <td>-0.499274</td>\n",
       "      <td>0.473928</td>\n",
       "      <td>-1.009786</td>\n",
       "      <td>-1</td>\n",
       "    </tr>\n",
       "    <tr>\n",
       "      <th>...</th>\n",
       "      <td>...</td>\n",
       "      <td>...</td>\n",
       "      <td>...</td>\n",
       "      <td>...</td>\n",
       "      <td>...</td>\n",
       "      <td>...</td>\n",
       "      <td>...</td>\n",
       "      <td>...</td>\n",
       "      <td>...</td>\n",
       "      <td>...</td>\n",
       "      <td>...</td>\n",
       "    </tr>\n",
       "    <tr>\n",
       "      <th>8810</th>\n",
       "      <td>-1.555883</td>\n",
       "      <td>-0.915057</td>\n",
       "      <td>-0.372823</td>\n",
       "      <td>-1.748286</td>\n",
       "      <td>4.544612</td>\n",
       "      <td>-0.371096</td>\n",
       "      <td>2.236260</td>\n",
       "      <td>-0.631907</td>\n",
       "      <td>0.906799</td>\n",
       "      <td>-0.897191</td>\n",
       "      <td>-1</td>\n",
       "    </tr>\n",
       "    <tr>\n",
       "      <th>8811</th>\n",
       "      <td>2.045114</td>\n",
       "      <td>2.382326</td>\n",
       "      <td>-0.538952</td>\n",
       "      <td>-0.834573</td>\n",
       "      <td>-0.379855</td>\n",
       "      <td>1.455039</td>\n",
       "      <td>0.350802</td>\n",
       "      <td>0.163892</td>\n",
       "      <td>-1.095233</td>\n",
       "      <td>1.853502</td>\n",
       "      <td>-1</td>\n",
       "    </tr>\n",
       "    <tr>\n",
       "      <th>8812</th>\n",
       "      <td>0.618993</td>\n",
       "      <td>0.458853</td>\n",
       "      <td>-1.701851</td>\n",
       "      <td>0.209670</td>\n",
       "      <td>0.167308</td>\n",
       "      <td>-0.132905</td>\n",
       "      <td>0.205767</td>\n",
       "      <td>-0.764540</td>\n",
       "      <td>0.257492</td>\n",
       "      <td>1.275517</td>\n",
       "      <td>-1</td>\n",
       "    </tr>\n",
       "    <tr>\n",
       "      <th>8815</th>\n",
       "      <td>-0.596155</td>\n",
       "      <td>0.825229</td>\n",
       "      <td>0.657173</td>\n",
       "      <td>-0.442982</td>\n",
       "      <td>0.577680</td>\n",
       "      <td>0.581670</td>\n",
       "      <td>-0.809480</td>\n",
       "      <td>0.561792</td>\n",
       "      <td>-0.608252</td>\n",
       "      <td>0.801051</td>\n",
       "      <td>-1</td>\n",
       "    </tr>\n",
       "    <tr>\n",
       "      <th>8816</th>\n",
       "      <td>2.034397</td>\n",
       "      <td>1.649574</td>\n",
       "      <td>0.756850</td>\n",
       "      <td>0.427220</td>\n",
       "      <td>-0.653437</td>\n",
       "      <td>-0.291699</td>\n",
       "      <td>-0.229339</td>\n",
       "      <td>-0.101374</td>\n",
       "      <td>0.149274</td>\n",
       "      <td>3.394598</td>\n",
       "      <td>-1</td>\n",
       "    </tr>\n",
       "  </tbody>\n",
       "</table>\n",
       "<p>3343 rows × 11 columns</p>\n",
       "</div>"
      ],
      "text/plain": [
       "        income       frq       rcn   clothes   kitchen  small_appliances  \\\n",
       "2    -1.548542 -0.823463  0.557496 -0.834573  1.672006         -0.371096   \n",
       "9     0.989443  0.000883  1.354913 -0.617023  1.261634          0.343478   \n",
       "11    0.919486  1.100011  0.059111 -1.052124 -0.516646          0.819861   \n",
       "13   -0.743080 -0.915057  1.587493 -0.225432 -0.927018          0.343478   \n",
       "14   -1.853219 -1.373027 -0.505726 -1.965837  2.903123          0.502272   \n",
       "...        ...       ...       ...       ...       ...               ...   \n",
       "8810 -1.555883 -0.915057 -0.372823 -1.748286  4.544612         -0.371096   \n",
       "8811  2.045114  2.382326 -0.538952 -0.834573 -0.379855          1.455039   \n",
       "8812  0.618993  0.458853 -1.701851  0.209670  0.167308         -0.132905   \n",
       "8815 -0.596155  0.825229  0.657173 -0.442982  0.577680          0.581670   \n",
       "8816  2.034397  1.649574  0.756850  0.427220 -0.653437         -0.291699   \n",
       "\n",
       "          toys  house_keeping  per_net_purchase  spent_online  dbscan_labels  \n",
       "2    -0.809480       2.286023          0.906799     -0.904191             -1  \n",
       "9     0.350802      -0.234007         -1.473995     -0.369453             -1  \n",
       "11    1.946190       0.561792         -1.041124      0.861561             -1  \n",
       "13    1.366049      -0.234007          1.501998     -0.975142             -1  \n",
       "14    3.106472      -0.499274          0.473928     -1.009786             -1  \n",
       "...        ...            ...               ...           ...            ...  \n",
       "8810  2.236260      -0.631907          0.906799     -0.897191             -1  \n",
       "8811  0.350802       0.163892         -1.095233      1.853502             -1  \n",
       "8812  0.205767      -0.764540          0.257492      1.275517             -1  \n",
       "8815 -0.809480       0.561792         -0.608252      0.801051             -1  \n",
       "8816 -0.229339      -0.101374          0.149274      3.394598             -1  \n",
       "\n",
       "[3343 rows x 11 columns]"
      ]
     },
     "execution_count": 30,
     "metadata": {},
     "output_type": "execute_result"
    }
   ],
   "source": [
    "# Detecting noise (potential outliers)\n",
    "# TO-DO: can we identify the noisy data? \n",
    "\n",
    "df_concat[df_concat[\"dbscan_labels\"] == -1]"
   ]
  },
  {
   "cell_type": "code",
   "execution_count": 32,
   "metadata": {},
   "outputs": [
    {
     "name": "stdout",
     "output_type": "stream",
     "text": [
      "Cluster solution with R^2 of 0.5998\n"
     ]
    }
   ],
   "source": [
    "# Computing the R^2 of the cluster solution\n",
    "# TO-DO: Remove the noisy data (we don't want to include it in the R² computation. Why?) \n",
    "df_nonoise = df_concat[df_concat[\"dbscan_labels\"] != -1]\n",
    "sst = get_ss(df[metric_features])  # get total sum of squares\n",
    "ssw_labels = df_nonoise.groupby(by='dbscan_labels').apply(get_ss)  # compute ssw for each cluster labels\n",
    "ssb = sst - np.sum(ssw_labels)  # remember: SST = SSW + SSB\n",
    "r2 = ssb / sst\n",
    "print(\"Cluster solution with R^2 of %0.4f\" % r2)"
   ]
  },
  {
   "cell_type": "markdown",
   "metadata": {},
   "source": [
    "- Why did the DBSCAN gave us just one cluster?\n",
    "- What can we do with the noisy data?"
   ]
  },
  {
   "cell_type": "markdown",
   "metadata": {},
   "source": [
    "## GMM (Gaussian Mixture Model )\n",
    "What is GMM? How does it work?\n",
    "![](../figures/gmm.gif)\n",
    "\n",
    "--- \n",
    "\n",
    "$$\\mathcal{p(\\vec{x})} \\ = \\ \\sum_{i=1}^K \\phi_i \\mathcal{N}(\\vec{x}|\\vec{\\mu_i}, \\Sigma_i) \\tag{eq1}$$\n",
    "$$\\mathcal{N}(\\vec{x}|\\vec{\\mu_i}, \\Sigma_i) \\ = \\ \\frac{1}{\\sqrt{{(2\\pi)}^{K}|\\Sigma_i|}}e^{-\\frac{1}{2} (\\vec{x} - \\vec{\\mu_i})^T \\Sigma_i^{-1} (\\vec{x} - \\vec{\\mu_i})} \\tag{eq2}$$\n",
    "$$\\sum_{i=1}^K \\phi_i \\ = \\ 1 \\tag{eq3}$$\n",
    "\n",
    ", where:\n",
    "- $\\phi_i$ is the component weight (scalar) for Component $i$ (probability of an observation being generated by Component $i$)\n",
    "- $\\vec{\\mu_i}$ is the mean vector for Component $i$,\n",
    "- $\\Sigma_i$ is the Covariance matrix for Component $i$\n",
    "\n",
    "---\n",
    "\n",
    "- **(eq1)** gives the probability of a point $x$ given the estimated Gaussian mixture\n",
    "- **(eq2)** is the probability density function of a multivariate Gaussian with mean $\\vec{\\mu_i}$ and covariance $\\Sigma_i$\n",
    "- **(eq3)** states that the sum of the component weights is 1, such that the total probability distribution normalizes to 1\n",
    "\n",
    "### Characteristics:\n",
    "- Assumes the data is generated from a mixture of finite number of Gaussian distributions with unknown parameters\n",
    "- Use the EM (Expectation Maximization algorithm) to estimate the parameters\n",
    "- Provides a probability of each observation belonging to each cluster\n",
    "- Advantages over K-Means:\n",
    "    - Can deal with spherical and elipsoid cluster shapes\n",
    "    - Number of components needs to be defined apriori\n",
    "    \n",
    "[Read More](https://jakevdp.github.io/PythonDataScienceHandbook/05.12-gaussian-mixtures.html)"
   ]
  },
  {
   "cell_type": "code",
   "execution_count": 41,
   "metadata": {},
   "outputs": [
    {
     "data": {
      "text/plain": [
       "array([[1.00000000e+00, 1.73649359e-10, 1.46398505e-32],\n",
       "       [1.00000000e+00, 5.38729796e-15, 6.89581588e-81],\n",
       "       [1.54492975e-16, 1.06233788e-55, 1.00000000e+00],\n",
       "       ...,\n",
       "       [9.02789283e-25, 1.29360323e-01, 8.70639677e-01],\n",
       "       [9.99999987e-01, 4.73526833e-09, 8.08559561e-09],\n",
       "       [3.21193514e-03, 9.96788065e-01, 8.56369922e-99]])"
      ]
     },
     "execution_count": 41,
     "metadata": {},
     "output_type": "execute_result"
    }
   ],
   "source": [
    "# Performing GMM clustering\n",
    "# TO-DO: explore the GaussianMixture class and obtain the cluster labels and the cluster probabilities\n",
    "gmm = GaussianMixture(n_components = 3,covariance_type='full',n_init=20, init_params='kmeans', random_state=42,verbose=0) #verbose- while coding check type of iterations and where initialization converged  \n",
    "gmm_labels = gmm.fit_predict(df[metric_features])\n",
    "labels_proba = gmm.predict_proba(df[metric_features])\n",
    "labels_proba"
   ]
  },
  {
   "cell_type": "markdown",
   "metadata": {},
   "source": [
    "**Let's look at the estimated parameters:**"
   ]
  },
  {
   "cell_type": "code",
   "execution_count": 37,
   "metadata": {},
   "outputs": [
    {
     "data": {
      "text/plain": [
       "array([0.33716671, 0.35268008, 0.31015321])"
      ]
     },
     "execution_count": 37,
     "metadata": {},
     "output_type": "execute_result"
    }
   ],
   "source": [
    "# The estimated component weights\n",
    "gmm.weights_"
   ]
  },
  {
   "cell_type": "code",
   "execution_count": 38,
   "metadata": {},
   "outputs": [
    {
     "data": {
      "text/plain": [
       "array([[ 0.97770385,  0.94446005, -0.05863409, -0.26816694,  0.10971717,\n",
       "         0.32349141,  0.11300222,  0.06890421, -1.08450556,  0.48965623],\n",
       "       [-0.06535864, -0.13046614, -0.01034405,  0.94076604, -0.64337401,\n",
       "        -0.62201509, -0.6456256 , -0.61795103,  0.44578347,  0.22708907],\n",
       "       [-0.98853886, -0.87836486,  0.07550334, -0.77823626,  0.61231743,\n",
       "         0.35563648,  0.61130658,  0.62777621,  0.67205567, -0.79053049]])"
      ]
     },
     "execution_count": 38,
     "metadata": {},
     "output_type": "execute_result"
    }
   ],
   "source": [
    "# The estimated mean vectors of the Components\n",
    "gmm.means_"
   ]
  },
  {
   "cell_type": "code",
   "execution_count": 39,
   "metadata": {},
   "outputs": [
    {
     "data": {
      "text/plain": [
       "(3, 10, 10)"
      ]
     },
     "execution_count": 39,
     "metadata": {},
     "output_type": "execute_result"
    }
   ],
   "source": [
    "# The estimated covariance matrices of the Components\n",
    "gmm.covariances_.shape  #3dimensional, 3 components, 10 metric features"
   ]
  },
  {
   "cell_type": "markdown",
   "metadata": {},
   "source": [
    "### Defining covariance_type:\n",
    "This hyperparameter controls the **degrees of freedom** in the shape of each cluster The more degrees of freedom we have the more complex shapes the model can fit and the more computationally expensive the model will be.\n",
    "\n",
    "![](../figures/gmm_covariance.png)\n",
    "\n",
    "- `covariance_type=\"tied\"` makes all components share the same general covariance matrix"
   ]
  },
  {
   "cell_type": "markdown",
   "metadata": {},
   "source": [
    "### Defining n_components:\n",
    "\n",
    "**AIC**: estimates the relative amount of information lost by a model used to represent the data-generation process. The smaller the better.\n",
    "\n",
    "**BIC**: similar to AIC but penalizes more complex models (i.e. favors simpler models). The smaller the better."
   ]
  },
  {
   "cell_type": "code",
   "execution_count": 42,
   "metadata": {},
   "outputs": [
    {
     "data": {
      "image/png": "[encoded data removed]",
      "text/plain": [
       "<Figure size 640x480 with 1 Axes>"
      ]
     },
     "metadata": {},
     "output_type": "display_data"
    }
   ],
   "source": [
    "# Selecting number of components based on AIC and BIC\n",
    "n_components = np.arange(1, 16)\n",
    "models = [GaussianMixture(n, covariance_type='full', n_init=10, random_state=1).fit(df[metric_features])\n",
    "          for n in n_components]\n",
    "\n",
    "# TO-DO: compute the aic and bic values for each cluster solution. Use the appropriate GMM methods.\n",
    "bic_values = [gmm.bic(df[metric_features]) for gmm in models]\n",
    "aic_values = [gmm.aic(df[metric_features]) for gmm in models]\n",
    "plt.plot(n_components, bic_values, label='BIC')\n",
    "plt.plot(n_components, aic_values, label='AIC')\n",
    "plt.legend(loc='best')\n",
    "plt.xlabel('n_components')\n",
    "plt.xticks(n_components)\n",
    "plt.show()"
   ]
  },
  {
   "cell_type": "markdown",
   "metadata": {},
   "source": [
    "**Note**: the AIC and BIC measures can also be used to select diferent hyperparameters such as the covariance_type"
   ]
  },
  {
   "cell_type": "code",
   "execution_count": 48,
   "metadata": {},
   "outputs": [],
   "source": [
    "# Performing GMM clustering\n",
    "# TO-DO: Re-cluster the data using the defined hyperparameters\n",
    "gmm = GaussianMixture(n_components = 5,covariance_type='full',n_init=20, init_params='kmeans',random_state=42)\n",
    "gmm_labels = gmm.fit_predict(df[metric_features])"
   ]
  },
  {
   "cell_type": "code",
   "execution_count": 49,
   "metadata": {},
   "outputs": [
    {
     "data": {
      "text/html": [
       "<div>\n",
       "<style scoped>\n",
       "    .dataframe tbody tr th:only-of-type {\n",
       "        vertical-align: middle;\n",
       "    }\n",
       "\n",
       "    .dataframe tbody tr th {\n",
       "        vertical-align: top;\n",
       "    }\n",
       "\n",
       "    .dataframe thead th {\n",
       "        text-align: right;\n",
       "    }\n",
       "</style>\n",
       "<table border=\"1\" class=\"dataframe\">\n",
       "  <thead>\n",
       "    <tr style=\"text-align: right;\">\n",
       "      <th></th>\n",
       "      <th>income</th>\n",
       "      <th>frq</th>\n",
       "      <th>rcn</th>\n",
       "      <th>clothes</th>\n",
       "      <th>kitchen</th>\n",
       "      <th>small_appliances</th>\n",
       "      <th>toys</th>\n",
       "      <th>house_keeping</th>\n",
       "      <th>per_net_purchase</th>\n",
       "      <th>spent_online</th>\n",
       "      <th>gmm_labels</th>\n",
       "    </tr>\n",
       "  </thead>\n",
       "  <tbody>\n",
       "    <tr>\n",
       "      <th>0</th>\n",
       "      <td>0.743162</td>\n",
       "      <td>1.191605</td>\n",
       "      <td>0.457819</td>\n",
       "      <td>-0.617023</td>\n",
       "      <td>-0.243065</td>\n",
       "      <td>1.216847</td>\n",
       "      <td>0.495837</td>\n",
       "      <td>-0.499274</td>\n",
       "      <td>-1.257560</td>\n",
       "      <td>0.522055</td>\n",
       "      <td>3</td>\n",
       "    </tr>\n",
       "    <tr>\n",
       "      <th>1</th>\n",
       "      <td>1.559488</td>\n",
       "      <td>1.100011</td>\n",
       "      <td>-1.535723</td>\n",
       "      <td>0.166160</td>\n",
       "      <td>-0.790228</td>\n",
       "      <td>0.740464</td>\n",
       "      <td>-0.374374</td>\n",
       "      <td>-0.631907</td>\n",
       "      <td>-1.798649</td>\n",
       "      <td>-0.237578</td>\n",
       "      <td>3</td>\n",
       "    </tr>\n",
       "    <tr>\n",
       "      <th>2</th>\n",
       "      <td>-1.548542</td>\n",
       "      <td>-0.823463</td>\n",
       "      <td>0.557496</td>\n",
       "      <td>-0.834573</td>\n",
       "      <td>1.672006</td>\n",
       "      <td>-0.371096</td>\n",
       "      <td>-0.809480</td>\n",
       "      <td>2.286023</td>\n",
       "      <td>0.906799</td>\n",
       "      <td>-0.904191</td>\n",
       "      <td>0</td>\n",
       "    </tr>\n",
       "    <tr>\n",
       "      <th>3</th>\n",
       "      <td>0.845528</td>\n",
       "      <td>0.550447</td>\n",
       "      <td>-1.402820</td>\n",
       "      <td>0.383710</td>\n",
       "      <td>0.440889</td>\n",
       "      <td>-0.768082</td>\n",
       "      <td>-0.084304</td>\n",
       "      <td>-0.234007</td>\n",
       "      <td>-0.391816</td>\n",
       "      <td>0.785568</td>\n",
       "      <td>2</td>\n",
       "    </tr>\n",
       "    <tr>\n",
       "      <th>4</th>\n",
       "      <td>0.782435</td>\n",
       "      <td>1.008417</td>\n",
       "      <td>-0.871209</td>\n",
       "      <td>0.340200</td>\n",
       "      <td>-0.243065</td>\n",
       "      <td>-0.053508</td>\n",
       "      <td>-0.374374</td>\n",
       "      <td>-0.366640</td>\n",
       "      <td>-0.445925</td>\n",
       "      <td>1.237135</td>\n",
       "      <td>4</td>\n",
       "    </tr>\n",
       "  </tbody>\n",
       "</table>\n",
       "</div>"
      ],
      "text/plain": [
       "     income       frq       rcn   clothes   kitchen  small_appliances  \\\n",
       "0  0.743162  1.191605  0.457819 -0.617023 -0.243065          1.216847   \n",
       "1  1.559488  1.100011 -1.535723  0.166160 -0.790228          0.740464   \n",
       "2 -1.548542 -0.823463  0.557496 -0.834573  1.672006         -0.371096   \n",
       "3  0.845528  0.550447 -1.402820  0.383710  0.440889         -0.768082   \n",
       "4  0.782435  1.008417 -0.871209  0.340200 -0.243065         -0.053508   \n",
       "\n",
       "       toys  house_keeping  per_net_purchase  spent_online  gmm_labels  \n",
       "0  0.495837      -0.499274         -1.257560      0.522055           3  \n",
       "1 -0.374374      -0.631907         -1.798649     -0.237578           3  \n",
       "2 -0.809480       2.286023          0.906799     -0.904191           0  \n",
       "3 -0.084304      -0.234007         -0.391816      0.785568           2  \n",
       "4 -0.374374      -0.366640         -0.445925      1.237135           4  "
      ]
     },
     "execution_count": 49,
     "metadata": {},
     "output_type": "execute_result"
    }
   ],
   "source": [
    "# Concatenating the labels to df\n",
    "df_concat = pd.concat([df[metric_features], pd.Series(gmm_labels, index=df.index, name=\"gmm_labels\")], axis=1)\n",
    "df_concat.head()"
   ]
  },
  {
   "cell_type": "code",
   "execution_count": 50,
   "metadata": {},
   "outputs": [
    {
     "name": "stdout",
     "output_type": "stream",
     "text": [
      "Cluster solution with R^2 of 0.4359\n"
     ]
    }
   ],
   "source": [
    "# Computing the R^2 of the cluster solution\n",
    "sst = get_ss(df[metric_features])  # get total sum of squares\n",
    "ssw_labels = df_concat.groupby(by='gmm_labels').apply(get_ss)  # compute ssw for each cluster labels\n",
    "ssb = sst - np.sum(ssw_labels)  # remember: SST = SSW + SSB\n",
    "r2 = ssb / sst\n",
    "print(\"Cluster solution with R^2 of %0.4f\" % r2)"
   ]
  },
  {
   "cell_type": "markdown",
   "metadata": {},
   "source": [
    "# Clustering by Perspectives\n",
    "- Demographic Perspective:\n",
    "- Value Perspective:\n",
    "- Product Perspective:"
   ]
  },
  {
   "cell_type": "markdown",
   "metadata": {},
   "source": [
    "## Merging the Perspectives\n",
    "- How can we merge different cluster solutions?"
   ]
  },
  {
   "cell_type": "code",
   "execution_count": null,
   "metadata": {},
   "outputs": [],
   "source": []
  }
 ],
 "metadata": {
  "kernelspec": {
   "display_name": "Python 3 (ipykernel)",
   "language": "python",
   "name": "python3"
  },
  "language_info": {
   "codemirror_mode": {
    "name": "ipython",
    "version": 3
   },
   "file_extension": ".py",
   "mimetype": "text/x-python",
   "name": "python",
   "nbconvert_exporter": "python",
   "pygments_lexer": "ipython3",
   "version": "3.8.13"
  }
 },
 "nbformat": 4,
 "nbformat_minor": 4
}
